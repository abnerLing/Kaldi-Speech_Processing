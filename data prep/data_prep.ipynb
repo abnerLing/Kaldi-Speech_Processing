{
 "cells": [
  {
   "cell_type": "markdown",
   "id": "uniform-suspension",
   "metadata": {},
   "source": [
    "# Kaldi for Dysarthic Speech Recognition\n",
    "- Part 1: Installation\n",
    "- **Part 2: Data Preparation**\n",
    "- Part 3: Training\n",
    "- Part 4: Evaluation"
   ]
  },
  {
   "cell_type": "markdown",
   "id": "imported-sheep",
   "metadata": {},
   "source": [
    "# Part 2 Data Preparation\n",
    "### We will use the TORGO Database from the University of Toronto\n",
    "- http://www.cs.toronto.edu/~complingweb/data/TORGO/torgo.html\n",
    "- Speech from patients with **Cerebral Palsy** or **Amyotrophic Lateral Sclerosis**.\n",
    "- 4 sets of data available for free totalling 18GB (uncompressed).\n",
    "\n",
    "&nbsp;\n",
    "**Dataset**\n",
    "- F.tar.bz2. Females (F01, F03, F04) with dysarthria.\n",
    "- FC.tar.bz2. Female controls (FC01, FC02, FC03) without dysarthria.\n",
    "- M.tar.bz2. Males (M01, M02, M03, M04, M05) with dysarthria.\n",
    "- MC.tar.bz2. Male controls (MC01, MC02, MC03, MC04) without dysarthria.\n"
   ]
  },
  {
   "cell_type": "markdown",
   "id": "critical-toronto",
   "metadata": {},
   "source": [
    "### Extract data into some directory\n",
    "- eg. tar -xf FC.tar.bz2"
   ]
  },
  {
   "cell_type": "raw",
   "id": "czech-belly",
   "metadata": {},
   "source": [
    "abner@ubuntu:/data/TORGO$ tree -L 1\n",
    ".\n",
    "├── F01\n",
    "├── F03\n",
    "├── F04\n",
    "├── FC01\n",
    "├── FC02\n",
    "├── FC03\n",
    "├── FC.tar.bz2\n",
    "├── F.tar.bz2\n",
    "├── M01\n",
    "├── M02\n",
    "├── M03\n",
    "├── M04\n",
    "├── M05\n",
    "├── MC01\n",
    "├── MC02\n",
    "├── MC03\n",
    "├── MC04\n",
    "├── MC.tar.bz2\n",
    "└── M.tar.bz2\n"
   ]
  },
  {
   "cell_type": "markdown",
   "id": "golden-privilege",
   "metadata": {},
   "source": [
    "### Renaming files\n",
    "- The current status of the data is not prefectly organized, so I already created some necessary files.\n",
    "- However, you should rename all the audio files for better consistency.\n",
    "- Currently all files are labeled with numbers not unique to the speaker or session, but Kaldi requires unique naming for all audio files."
   ]
  },
  {
   "cell_type": "raw",
   "id": "furnished-coral",
   "metadata": {},
   "source": [
    "# eg. OLD \n",
    "abner@ubuntu:/data/TORGO/M01$ tree\n",
    ".\n",
    "├── Session1\n",
    "│   ├── wav_arrayMic\n",
    "│   │   ├── 0001.wav\n",
    "│   │   ├── 0002.wav\n",
    "│   │   ├── ....\n",
    "│   └── wav_headMic\n",
    "│       ├── 0001.wav\n",
    "│       ├── 0002.wav\n",
    "│       ├── ...\n",
    "├── Session2\n",
    "│   ├── wav_arrayMic\n",
    "│   │   ├── 0001.wav\n",
    "│   │   ├── 0002.wav\n",
    "│   │   ├── ....\n",
    "│   └── wav_headMic\n",
    "│       ├── 0001.wav\n",
    "│       ├── 0002.wav\n",
    "│       ├── ...\n",
    "\n",
    "\n",
    "# eg. NEW\n",
    "abner@ubuntu:/data/TORGO/M01$ tree\n",
    "\n",
    ".\n",
    "├── Session1\n",
    "│   ├── wav_arrayMic\n",
    "│   │   ├── M01_1_array_0001.wav\n",
    "│   │   ├── M01_1_array_0002.wav\n",
    "│   │   ├── ....\n",
    "│   └── wav_headMic\n",
    "│       ├── M01_1_head_0001.wav\n",
    "│       ├── M01_1_head_0002.wav\n",
    "│       ├── ...\n",
    "├── Session2\n",
    "│   ├── wav_arrayMic\n",
    "│   │   ├── M01_2_array_0001.wav\n",
    "│   │   ├── M01_2_array_0002.wav\n",
    "│   │   ├── ....\n",
    "│   └── wav_headMic\n",
    "│       ├── M01_2_head_0001.wav\n",
    "│       ├── M01_2_head_0002.wav\n",
    "│       ├── ...\n",
    "\n",
    "# Files are now labeled as \"SpeakerID_session#_mictype_filename.wav\""
   ]
  },
  {
   "cell_type": "code",
   "execution_count": 49,
   "id": "inclusive-harvard",
   "metadata": {},
   "outputs": [
    {
     "name": "stdout",
     "output_type": "stream",
     "text": [
      "0001.wav  0014.wav  0027.wav  0040.wav\t0053.wav  0066.wav  0079.wav  0092.wav\r\n",
      "0002.wav  0015.wav  0028.wav  0041.wav\t0054.wav  0067.wav  0080.wav  0093.wav\r\n",
      "0003.wav  0016.wav  0029.wav  0042.wav\t0055.wav  0068.wav  0081.wav  0094.wav\r\n",
      "0004.wav  0017.wav  0030.wav  0043.wav\t0056.wav  0069.wav  0082.wav  0095.wav\r\n",
      "0005.wav  0018.wav  0031.wav  0044.wav\t0057.wav  0070.wav  0083.wav  0096.wav\r\n",
      "0006.wav  0019.wav  0032.wav  0045.wav\t0058.wav  0071.wav  0084.wav  0097.wav\r\n",
      "0007.wav  0020.wav  0033.wav  0046.wav\t0059.wav  0072.wav  0085.wav  0098.wav\r\n",
      "0008.wav  0021.wav  0034.wav  0047.wav\t0060.wav  0073.wav  0086.wav  0099.wav\r\n",
      "0009.wav  0022.wav  0035.wav  0048.wav\t0061.wav  0074.wav  0087.wav  0100.wav\r\n",
      "0010.wav  0023.wav  0036.wav  0049.wav\t0062.wav  0075.wav  0088.wav\r\n",
      "0011.wav  0024.wav  0037.wav  0050.wav\t0063.wav  0076.wav  0089.wav\r\n",
      "0012.wav  0025.wav  0038.wav  0051.wav\t0064.wav  0077.wav  0090.wav\r\n",
      "0013.wav  0026.wav  0039.wav  0052.wav\t0065.wav  0078.wav  0091.wav\r\n"
     ]
    }
   ],
   "source": [
    "!ls /data2/TORGO/M01/Session1/wav_arrayMic/ # Change to your directory"
   ]
  },
  {
   "cell_type": "code",
   "execution_count": 50,
   "id": "organized-tractor",
   "metadata": {},
   "outputs": [],
   "source": [
    "import os\n",
    "\n",
    "mydir = \"/data2/TORGO/\" # change to your TORGO directory location\n",
    "\n",
    "for subdir, dirs, files in os.walk(mydir):\n",
    "    for file in files:\n",
    "        filepath = subdir + os.sep + file\n",
    "        \n",
    "        if filepath.endswith(\".wav\"):\n",
    "            name = filepath.split('/')\n",
    "            ID = name[-4]\n",
    "            SESS = name[-3][-1]\n",
    "            MIC = name[-2].split('_')[1][:-3]\n",
    "            WAV = name[-1] \n",
    "            \n",
    "            new_name = ID + '_' + SESS + '_' + MIC + '_' + WAV\n",
    "            #print(new_name)\n",
    "            new_filepath = subdir + os.sep + new_name\n",
    "            os.rename(filepath, new_filepath)"
   ]
  },
  {
   "cell_type": "code",
   "execution_count": 51,
   "id": "medieval-validity",
   "metadata": {},
   "outputs": [
    {
     "name": "stdout",
     "output_type": "stream",
     "text": [
      "M01_1_array_0001.wav  M01_1_array_0035.wav  M01_1_array_0069.wav\r\n",
      "M01_1_array_0002.wav  M01_1_array_0036.wav  M01_1_array_0070.wav\r\n",
      "M01_1_array_0003.wav  M01_1_array_0037.wav  M01_1_array_0071.wav\r\n",
      "M01_1_array_0004.wav  M01_1_array_0038.wav  M01_1_array_0072.wav\r\n",
      "M01_1_array_0005.wav  M01_1_array_0039.wav  M01_1_array_0073.wav\r\n",
      "M01_1_array_0006.wav  M01_1_array_0040.wav  M01_1_array_0074.wav\r\n",
      "M01_1_array_0007.wav  M01_1_array_0041.wav  M01_1_array_0075.wav\r\n",
      "M01_1_array_0008.wav  M01_1_array_0042.wav  M01_1_array_0076.wav\r\n",
      "M01_1_array_0009.wav  M01_1_array_0043.wav  M01_1_array_0077.wav\r\n",
      "M01_1_array_0010.wav  M01_1_array_0044.wav  M01_1_array_0078.wav\r\n",
      "M01_1_array_0011.wav  M01_1_array_0045.wav  M01_1_array_0079.wav\r\n",
      "M01_1_array_0012.wav  M01_1_array_0046.wav  M01_1_array_0080.wav\r\n",
      "M01_1_array_0013.wav  M01_1_array_0047.wav  M01_1_array_0081.wav\r\n",
      "M01_1_array_0014.wav  M01_1_array_0048.wav  M01_1_array_0082.wav\r\n",
      "M01_1_array_0015.wav  M01_1_array_0049.wav  M01_1_array_0083.wav\r\n",
      "M01_1_array_0016.wav  M01_1_array_0050.wav  M01_1_array_0084.wav\r\n",
      "M01_1_array_0017.wav  M01_1_array_0051.wav  M01_1_array_0085.wav\r\n",
      "M01_1_array_0018.wav  M01_1_array_0052.wav  M01_1_array_0086.wav\r\n",
      "M01_1_array_0019.wav  M01_1_array_0053.wav  M01_1_array_0087.wav\r\n",
      "M01_1_array_0020.wav  M01_1_array_0054.wav  M01_1_array_0088.wav\r\n",
      "M01_1_array_0021.wav  M01_1_array_0055.wav  M01_1_array_0089.wav\r\n",
      "M01_1_array_0022.wav  M01_1_array_0056.wav  M01_1_array_0090.wav\r\n",
      "M01_1_array_0023.wav  M01_1_array_0057.wav  M01_1_array_0091.wav\r\n",
      "M01_1_array_0024.wav  M01_1_array_0058.wav  M01_1_array_0092.wav\r\n",
      "M01_1_array_0025.wav  M01_1_array_0059.wav  M01_1_array_0093.wav\r\n",
      "M01_1_array_0026.wav  M01_1_array_0060.wav  M01_1_array_0094.wav\r\n",
      "M01_1_array_0027.wav  M01_1_array_0061.wav  M01_1_array_0095.wav\r\n",
      "M01_1_array_0028.wav  M01_1_array_0062.wav  M01_1_array_0096.wav\r\n",
      "M01_1_array_0029.wav  M01_1_array_0063.wav  M01_1_array_0097.wav\r\n",
      "M01_1_array_0030.wav  M01_1_array_0064.wav  M01_1_array_0098.wav\r\n",
      "M01_1_array_0031.wav  M01_1_array_0065.wav  M01_1_array_0099.wav\r\n",
      "M01_1_array_0032.wav  M01_1_array_0066.wav  M01_1_array_0100.wav\r\n",
      "M01_1_array_0033.wav  M01_1_array_0067.wav\r\n",
      "M01_1_array_0034.wav  M01_1_array_0068.wav\r\n"
     ]
    }
   ],
   "source": [
    "!ls /data2/TORGO/M01/Session1/wav_arrayMic/ # Change to your directory"
   ]
  },
  {
   "cell_type": "markdown",
   "id": "major-ontario",
   "metadata": {},
   "source": [
    "### We will train our GMM-HMM acoustic model with all but one speaker (speaker - F03)\n",
    "- The one speaker left out will be used to evaluate our model.\n",
    "- The speaker has moderate dysarthria.\n"
   ]
  },
  {
   "cell_type": "markdown",
   "id": "earlier-liquid",
   "metadata": {},
   "source": [
    "### Kaldi requires 4 main files that need to be created by us\n",
    "1. wav.scp\n",
    "2. utt2spk\n",
    "3. text\n",
    "4. spk2utt "
   ]
  },
  {
   "cell_type": "markdown",
   "id": "continued-regulation",
   "metadata": {},
   "source": [
    "#### 1. wav.scp\n",
    "- This is a file containing the file location for each audio file\n",
    "- One utterance per line\n",
    "- file name \\<space> file location\n",
    "- eg: <br/>\n",
    "\n",
    "F01_1_array_0006 /data2/TORGO/F01/Session1/wav_arrayMic/F01_1_array_0006.wav <br/>\n",
    "F01_1_array_0007 /data2/TORGO/F01/Session1/wav_arrayMic/F01_1_array_0007.wav <br/>\n",
    "F01_1_array_0008 /data2/TORGO/F01/Session1/wav_arrayMic/F01_1_array_0008.wav <br/>\n",
    "F01_1_array_0009 /data2/TORGO/F01/Session1/wav_arrayMic/F01_1_array_0009.wav <br/>\n",
    "...\n",
    "\n"
   ]
  },
  {
   "cell_type": "markdown",
   "id": "damaged-precipitation",
   "metadata": {},
   "source": [
    "#### 2. utt2spk\n",
    "- A file containing the speaker ID for each utterance\n",
    "- One utterance per line\n",
    "- file name \\<space> speaker ID\n",
    "- eg: <br/>\n",
    "\n",
    "F01_1_array_0006 F01 <br/>\n",
    "F01_1_array_0007 F01 <br/>\n",
    "F01_1_array_0008 F01 <br/>\n",
    "MC04_2_array_1016 MC04 <br/>\n",
    "MC04_2_array_1017 MC04 <br/>\n",
    "MC04_2_array_1018 MC04 <br/>\n",
    "..."
   ]
  },
  {
   "cell_type": "markdown",
   "id": "religious-parking",
   "metadata": {},
   "source": [
    "#### 3. text\n",
    "- Transcriptions for each utterance \n",
    "- One utterance per line\n",
    "- file name \\<space> transcription\n",
    "- eg: <br/> \n",
    "\n",
    "F01_1_array_0008 EXCEPT IN THE WINTER WHEN THE OOZE OR SNOW OR ICE PREVENTS <br/> \n",
    "F01_1_array_0009 PAT <br/> \n",
    "F01_1_array_0010 UP <br/> \n",
    "F01_1_array_0013 KNOW <br/> \n",
    "F01_1_array_0014 HE SLOWLY TAKES A SHORT WALK IN THE OPEN AIR EACH DAY <br/> \n",
    "MC04_2_array_1019 UPGRADE YOUR STATUS TO REFLECT YOUR WEALTH <br/> \n",
    "MC04_2_array_1021 EAT YOUR RAISINS OUTDOORS ON THE PORCH STEPS <br/> \n",
    "MC04_2_array_1023 THE FAMILY REQUESTS THAT FLOWERS BE OMITTED <br/> \n",
    "\n"
   ]
  },
  {
   "cell_type": "markdown",
   "id": "statutory-victory",
   "metadata": {},
   "source": [
    "#### 4. spk2utt\n",
    "- All utterances for each speaker\n",
    "- One speaker per line\n",
    "- speaker ID \\<space> utterance\n",
    "- can be created with kaldi provided script (eg. utils/utt2spk_to_spk2utt.pl data/train/utt2spk > data/train/spk2utt) <br/>\n",
    "eg: <br/>\n",
    "M05 M05_1_array_0005 M05_1_array_0006 M05_1_array_0007 M05_1_array_0008 M05_1_array_0009 ... ... ..."
   ]
  },
  {
   "cell_type": "markdown",
   "id": "speaking-maximum",
   "metadata": {},
   "source": [
    "### All files except wav.scp have been provided.  \n",
    "- create wav.scp after renaming all audio files and use the other provided files as a reference."
   ]
  },
  {
   "cell_type": "markdown",
   "id": "viral-reviewer",
   "metadata": {},
   "source": [
    "### Once your data directory looks like below, we can start training"
   ]
  },
  {
   "cell_type": "raw",
   "id": "athletic-supply",
   "metadata": {},
   "source": [
    "(base) abner@ubuntu:~/kaldi/egs/torgo/data$ tree -L 2\n",
    ".\n",
    "├── test\n",
    "│   ├── spk2utt\n",
    "│   ├── text\n",
    "│   ├── utt2spk\n",
    "│   └── wav.scp\n",
    "└── train\n",
    "    ├── spk2utt\n",
    "    ├── text\n",
    "    ├── utt2spk\n",
    "    └── wav.scp\n"
   ]
  },
  {
   "cell_type": "code",
   "execution_count": null,
   "id": "addressed-junior",
   "metadata": {},
   "outputs": [],
   "source": []
  }
 ],
 "metadata": {
  "kernelspec": {
   "display_name": "Python 3",
   "language": "python",
   "name": "python3"
  },
  "language_info": {
   "codemirror_mode": {
    "name": "ipython",
    "version": 3
   },
   "file_extension": ".py",
   "mimetype": "text/x-python",
   "name": "python",
   "nbconvert_exporter": "python",
   "pygments_lexer": "ipython3",
   "version": "3.6.12"
  }
 },
 "nbformat": 4,
 "nbformat_minor": 5
}
