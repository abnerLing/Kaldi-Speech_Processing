{
 "cells": [
  {
   "cell_type": "markdown",
   "id": "580b1796",
   "metadata": {},
   "source": [
    "### Aligning train, dev, test sets"
   ]
  },
  {
   "cell_type": "code",
   "execution_count": 2,
   "id": "4a533cd0",
   "metadata": {},
   "outputs": [
    {
     "name": "stdout",
     "output_type": "stream",
     "text": [
      "steps/align_fmllr.sh --nj 8 --cmd run.pl /home/abner/work/kaldi/egs/torgo-speech_processing/asr-dnn/data/train /home/abner/work/kaldi/egs/torgo-speech_processing/asr-dnn/data/lang /home/abner/work/kaldi/egs/torgo-speech_processing/asr-dnn/exp/tri4_ali exp/tri4_ali_train\n",
      "steps/align_fmllr.sh: feature type is lda\n",
      "steps/align_fmllr.sh: compiling training graphs\n",
      "steps/align_fmllr.sh: aligning data in /home/abner/work/kaldi/egs/torgo-speech_processing/asr-dnn/data/train using /home/abner/work/kaldi/egs/torgo-speech_processing/asr-dnn/exp/tri4_ali/final.alimdl and speaker-independent features.\n",
      "steps/align_fmllr.sh: computing fMLLR transforms\n",
      "steps/align_fmllr.sh: doing final alignment.\n",
      "steps/align_fmllr.sh: done aligning data.\n",
      "steps/diagnostic/analyze_alignments.sh --cmd run.pl /home/abner/work/kaldi/egs/torgo-speech_processing/asr-dnn/data/lang exp/tri4_ali_train\n",
      "steps/diagnostic/analyze_alignments.sh: see stats in exp/tri4_ali_train/log/analyze_alignments.log\n",
      "33 warnings in exp/tri4_ali_train/log/fmllr.*.log\n",
      "106 warnings in exp/tri4_ali_train/log/align_pass2.*.log\n",
      "120 warnings in exp/tri4_ali_train/log/align_pass1.*.log\n",
      "steps/align_fmllr.sh --nj 1 --cmd run.pl /home/abner/work/kaldi/egs/torgo-speech_processing/asr-dnn/data/dev /home/abner/work/kaldi/egs/torgo-speech_processing/asr-dnn/data/lang /home/abner/work/kaldi/egs/torgo-speech_processing/asr-dnn/exp/tri4_ali exp/tri4_ali_dev\n",
      "steps/align_fmllr.sh: feature type is lda\n",
      "steps/align_fmllr.sh: compiling training graphs\n",
      "steps/align_fmllr.sh: aligning data in /home/abner/work/kaldi/egs/torgo-speech_processing/asr-dnn/data/dev using /home/abner/work/kaldi/egs/torgo-speech_processing/asr-dnn/exp/tri4_ali/final.alimdl and speaker-independent features.\n",
      "steps/align_fmllr.sh: computing fMLLR transforms\n",
      "steps/align_fmllr.sh: doing final alignment.\n",
      "steps/align_fmllr.sh: done aligning data.\n",
      "steps/diagnostic/analyze_alignments.sh --cmd run.pl /home/abner/work/kaldi/egs/torgo-speech_processing/asr-dnn/data/lang exp/tri4_ali_dev\n",
      "steps/diagnostic/analyze_alignments.sh: see stats in exp/tri4_ali_dev/log/analyze_alignments.log\n",
      "1 warnings in exp/tri4_ali_dev/log/align_pass1.*.log\n",
      "1 warnings in exp/tri4_ali_dev/log/align_pass2.*.log\n",
      "4 warnings in exp/tri4_ali_dev/log/fmllr.*.log\n",
      "steps/align_fmllr.sh --nj 1 --cmd run.pl /home/abner/work/kaldi/egs/torgo-speech_processing/asr-dnn/data/test /home/abner/work/kaldi/egs/torgo-speech_processing/asr-dnn/data/lang /home/abner/work/kaldi/egs/torgo-speech_processing/asr-dnn/exp/tri4_ali exp/tri4_ali_test\n",
      "steps/align_fmllr.sh: feature type is lda\n",
      "steps/align_fmllr.sh: compiling training graphs\n",
      "steps/align_fmllr.sh: aligning data in /home/abner/work/kaldi/egs/torgo-speech_processing/asr-dnn/data/test using /home/abner/work/kaldi/egs/torgo-speech_processing/asr-dnn/exp/tri4_ali/final.alimdl and speaker-independent features.\n",
      "steps/align_fmllr.sh: computing fMLLR transforms\n",
      "steps/align_fmllr.sh: doing final alignment.\n",
      "steps/align_fmllr.sh: done aligning data.\n",
      "steps/diagnostic/analyze_alignments.sh --cmd run.pl /home/abner/work/kaldi/egs/torgo-speech_processing/asr-dnn/data/lang exp/tri4_ali_test\n",
      "steps/diagnostic/analyze_alignments.sh: see stats in exp/tri4_ali_test/log/analyze_alignments.log\n",
      "14 warnings in exp/tri4_ali_test/log/align_pass2.*.log\n",
      "8 warnings in exp/tri4_ali_test/log/align_pass1.*.log\n"
     ]
    }
   ],
   "source": [
    "!./run.sh"
   ]
  },
  {
   "cell_type": "markdown",
   "id": "fade1b82",
   "metadata": {},
   "source": [
    "### Label Folder (alignments)"
   ]
  },
  {
   "cell_type": "code",
   "execution_count": 3,
   "id": "05e67efa",
   "metadata": {},
   "outputs": [
    {
     "name": "stdout",
     "output_type": "stream",
     "text": [
      "ali.1.gz  ali.6.gz\tfinal.mat   fsts.3.gz  fsts.8.gz   splice_opts\ttrans.5\r\n",
      "ali.2.gz  ali.7.gz\tfinal.mdl   fsts.4.gz  full.mat    trans.1\ttrans.6\r\n",
      "ali.3.gz  ali.8.gz\tfinal.occs  fsts.5.gz  log\t   trans.2\ttrans.7\r\n",
      "ali.4.gz  cmvn_opts\tfsts.1.gz   fsts.6.gz  num_jobs    trans.3\ttrans.8\r\n",
      "ali.5.gz  final.alimdl\tfsts.2.gz   fsts.7.gz  phones.txt  trans.4\ttree\r\n"
     ]
    }
   ],
   "source": [
    "!ls /home/abner/work/kaldi/egs/torgo-speech_processing/asr-dnn/exp/tri4_ali_train"
   ]
  },
  {
   "cell_type": "markdown",
   "id": "ac83988e",
   "metadata": {},
   "source": [
    "### Label Data Folder"
   ]
  },
  {
   "cell_type": "code",
   "execution_count": 5,
   "id": "acf5e28c",
   "metadata": {},
   "outputs": [
    {
     "name": "stdout",
     "output_type": "stream",
     "text": [
      "35.alimdl  ali.5.gz   final.alimdl  fsts.4.gz  log\t      trans.2  tree\r\n",
      "35.mdl\t   ali.6.gz   final.mat     fsts.5.gz  num_jobs       trans.3\r\n",
      "35.occs    ali.7.gz   final.mdl     fsts.6.gz  phones.txt     trans.4\r\n",
      "ali.1.gz   ali.8.gz   final.occs    fsts.7.gz  questions.int  trans.5\r\n",
      "ali.2.gz   cmvn_opts  fsts.1.gz     fsts.8.gz  questions.qst  trans.6\r\n",
      "ali.3.gz   decode     fsts.2.gz     full.mat   splice_opts    trans.7\r\n",
      "ali.4.gz   decode.si  fsts.3.gz     graph      trans.1\t      trans.8\r\n"
     ]
    }
   ],
   "source": [
    "!ls /home/abner/work/kaldi/egs/torgo-speech_processing/asr-dnn/exp/tri4/"
   ]
  },
  {
   "cell_type": "markdown",
   "id": "ab4d49cf",
   "metadata": {},
   "source": [
    "### Label Graph\n",
    "- HCLG.fst:\n",
    "    - H = HMM-FST (maps multiple HMM states to context-dependent triphones).\n",
    "    - C = Context-FST (maps triphone sequences to monophones).\n",
    "    - L = Lexicon-FST (maps monophone sequences to words).\n",
    "    - G = Grammar-FST (n-gram grammar)."
   ]
  },
  {
   "cell_type": "code",
   "execution_count": 6,
   "id": "c9558c0e",
   "metadata": {},
   "outputs": [
    {
     "name": "stdout",
     "output_type": "stream",
     "text": [
      "disambig_tid.int  HCLG.fst  num_pdfs  phones  phones.txt  words.txt\r\n"
     ]
    }
   ],
   "source": [
    "!ls /home/abner/work/kaldi/egs/torgo-speech_processing/asr-dnn/exp/tri4/graph/"
   ]
  },
  {
   "cell_type": "code",
   "execution_count": null,
   "id": "ddb2237b",
   "metadata": {},
   "outputs": [],
   "source": []
  },
  {
   "cell_type": "markdown",
   "id": "52bfc9a0",
   "metadata": {},
   "source": [
    "### Modify the cfg file and run the run_exp.py script\n",
    "- I only ran 3 epochs but you should run it longer 10-20 epochs."
   ]
  },
  {
   "cell_type": "code",
   "execution_count": 1,
   "id": "3516751c",
   "metadata": {},
   "outputs": [
    {
     "name": "stdout",
     "output_type": "stream",
     "text": [
      "- Reading config file......OK!\n",
      "- Chunk creation......OK!\n",
      "\n",
      "------------------------------ Epoch 0 / 2 ------------------------------\n",
      "Training train chunk = 1 / 5\n",
      "[========================================] 100% Training | (Batch 7067/7067)7) | L:1.791\n",
      "Training train chunk = 2 / 5\n",
      "[========================================] 100% Training | (Batch 7094/7094)4) | L:1.382\n",
      "Training train chunk = 3 / 5\n",
      "[========================================] 100% Training | (Batch 7147/7147)7) | L:1.299\n",
      "Training train chunk = 4 / 5\n",
      "[========================================] 100% Training | (Batch 7049/7049)9) | L:1.241\n",
      "Training train chunk = 5 / 5\n",
      "[========================================] 100% Training | (Batch 7146/7146)6) | L:1.254\n",
      "Validating dev chunk = 1 / 1\n",
      "[========================================] 100% Validating | (Batch 668/668))\n",
      " \n",
      "----- Summary epoch 0 / 2\n",
      "Training on ['train']\n",
      "Loss = 1.393 | err = 0.963 \n",
      "-----\n",
      "Validating on dev\n",
      "Loss = 1.230 | err = 0.316 \n",
      "-----\n",
      "Learning rate on architecture1 = 0.1 \n",
      "-----\n",
      "Elapsed time (s) = 2237\n",
      "\n",
      " \n",
      "------------------------------ Epoch 1 / 2 ------------------------------\n",
      "Training train chunk = 1 / 5\n",
      "[========================================] 100% Training | (Batch 7195/7195)5) | L:1.127\n",
      "Training train chunk = 2 / 5\n",
      "[========================================] 100% Training | (Batch 7119/7119)9) | L:1.119\n",
      "Training train chunk = 3 / 5\n",
      "[========================================] 100% Training | (Batch 7081/7081)1) | L:1.091\n",
      "Training train chunk = 4 / 5\n",
      "[========================================] 100% Training | (Batch 7172/7172)2) | L:1.098\n",
      "Training train chunk = 5 / 5\n",
      "[========================================] 100% Training | (Batch 6937/6937)7) | L:1.047\n",
      "Validating dev chunk = 1 / 1\n",
      "[========================================] 100% Validating | (Batch 668/668))\n",
      " \n",
      "----- Summary epoch 1 / 2\n",
      "Training on ['train']\n",
      "Loss = 1.096 | err = 0.963 \n",
      "-----\n",
      "Validating on dev\n",
      "Loss = 1.161 | err = 0.307 \n",
      "-----\n",
      "Learning rate on architecture1 = 0.1 \n",
      "-----\n",
      "Elapsed time (s) = 2797\n",
      "\n",
      " \n",
      "------------------------------ Epoch 2 / 2 ------------------------------\n",
      "Training train chunk = 1 / 5\n",
      "[========================================] 100% Training | (Batch 7025/7025)5) | L:0.955\n",
      "Training train chunk = 2 / 5\n",
      "[========================================] 100% Training | (Batch 7076/7076)6) | L:0.991\n",
      "Training train chunk = 3 / 5\n",
      "[========================================] 100% Training | (Batch 7055/7055)5) | L:1.013\n",
      "Training train chunk = 4 / 5\n",
      "[========================================] 100% Training | (Batch 7302/7302)2) | L:1.017\n",
      "Training train chunk = 5 / 5\n",
      "[========================================] 100% Training | (Batch 7046/7046)6) | L:0.976\n",
      "Validating dev chunk = 1 / 1\n",
      "[========================================] 100% Validating | (Batch 668/668))\n",
      " \n",
      "----- Summary epoch 2 / 2\n",
      "Training on ['train']\n",
      "Loss = 0.990 | err = 0.963 \n",
      "-----\n",
      "Validating on dev\n",
      "Loss = 1.100 | err = 0.290 \n",
      "-----\n",
      "Learning rate on architecture1 = 0.1 \n",
      "-----\n",
      "Elapsed time (s) = 2952\n",
      "\n",
      " \n",
      "Testing test chunk = 1 / 2\n",
      "[========================================] 100% Forwarding | (Batch 543/543))\n",
      "Testing test chunk = 2 / 2\n",
      "[========================================] 100% Forwarding | (Batch 543/543))\n",
      "Decoding test output out_dnn1\n",
      "\n",
      " \n",
      "-----\n",
      "Generating output files and plots ... \n",
      "OK\n"
     ]
    }
   ],
   "source": [
    "!cd ~/work/pytorch-kaldi && python run_exp.py cfg/TORGO/torgo_base.cfg"
   ]
  },
  {
   "cell_type": "markdown",
   "id": "3c734d65",
   "metadata": {},
   "source": [
    "### Check out WER (only 3 epochs and already lower than our GMM-HMM model)"
   ]
  },
  {
   "cell_type": "code",
   "execution_count": 3,
   "id": "99a33210",
   "metadata": {},
   "outputs": [
    {
     "name": "stdout",
     "output_type": "stream",
     "text": [
      "%WER 32.05 [ 890 / 2777, 163 ins, 152 del, 575 sub ] [PARTIAL] /home/abner/work/pytorch-kaldi/exp/torgo/decode_test_out_dnn1/wer_17_0.0\r\n"
     ]
    }
   ],
   "source": [
    "!cat ~/work/pytorch-kaldi/exp/torgo/decode_test_out_dnn1/scoring_kaldi/best_wer"
   ]
  },
  {
   "cell_type": "code",
   "execution_count": null,
   "id": "acdebbf7",
   "metadata": {},
   "outputs": [],
   "source": []
  }
 ],
 "metadata": {
  "kernelspec": {
   "display_name": "Python 3",
   "language": "python",
   "name": "python3"
  },
  "language_info": {
   "codemirror_mode": {
    "name": "ipython",
    "version": 3
   },
   "file_extension": ".py",
   "mimetype": "text/x-python",
   "name": "python",
   "nbconvert_exporter": "python",
   "pygments_lexer": "ipython3",
   "version": "3.7.10"
  }
 },
 "nbformat": 4,
 "nbformat_minor": 5
}
